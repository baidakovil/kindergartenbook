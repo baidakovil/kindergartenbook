{
 "cells": [
  {
   "cell_type": "code",
   "execution_count": 7,
   "id": "3ab6ba72",
   "metadata": {},
   "outputs": [
    {
     "name": "stdout",
     "output_type": "stream",
     "text": [
      "Total observations with tag 'kindergarten' by user 'budetinetakoe': 100\n"
     ]
    }
   ],
   "source": [
    "# Fetch and display the quantity of observations with tag 'kindergarten' by user 'budetinetakoe'\n",
    "import requests\n",
    "\n",
    "# API endpoint and parameters\n",
    "url = \"https://api.inaturalist.org/v1/observations\"\n",
    "params = {\n",
    "    \"user_id\": \"budetinetakoe\",\n",
    "    \"q\": \"kindergarten\",\n",
    "    \"per_page\": 1,\n",
    "    \"page\": 1\n",
    "}\n",
    "\n",
    "response = requests.get(url, params=params)\n",
    "data = response.json()\n",
    "\n",
    "# Display the total number of matching observations\n",
    "print(f\"Total observations with tag 'kindergarten' by user 'budetinetakoe': {data['total_results']}\")"
   ]
  },
  {
   "cell_type": "code",
   "execution_count": null,
   "id": "15c5c358",
   "metadata": {},
   "outputs": [
    {
     "name": "stderr",
     "output_type": "stream",
     "text": [
      "Downloading observations: 100%|██████████| 5/5 [00:48<00:00,  9.62s/it]\n",
      "Downloading observations: 100%|██████████| 5/5 [00:48<00:00,  9.62s/it]\n"
     ]
    }
   ],
   "source": [
    "# Fetch first five observations, save each in a separate folder with all data as JSON and full-size images\n",
    "import os\n",
    "import json\n",
    "from tqdm import tqdm\n",
    "\n",
    "# API endpoint and parameters\n",
    "url = \"https://api.inaturalist.org/v1/observations\"\n",
    "params = {\n",
    "    \"user_id\": \"budetinetakoe\",\n",
    "    \"q\": \"kindergarten\",\n",
    "    \"per_page\": 5,\n",
    "    \"page\": 1,\n",
    "    \"include_new_projects\": True,\n",
    "    \"photos\": True\n",
    "}\n",
    "\n",
    "response = requests.get(url, params=params)\n",
    "data = response.json()\n",
    "observations = data.get(\"results\", [])\n",
    "\n",
    "for idx, obs in enumerate(tqdm(observations, desc=\"Downloading observations\")):\n",
    "    obs_id = obs[\"id\"]\n",
    "    folder_name = f\"observations/observation_{obs_id}\"\n",
    "    os.makedirs(folder_name, exist_ok=True)\n",
    "    # Save all data as JSON\n",
    "    with open(os.path.join(folder_name, \"data.json\"), \"w\", encoding=\"utf-8\") as f:\n",
    "        json.dump(obs, f, ensure_ascii=False, indent=2)\n",
    "    # Download all full-size images\n",
    "    photos = obs.get(\"photos\", [])\n",
    "    for pidx, photo in enumerate(photos):\n",
    "        url = photo.get(\"url\")\n",
    "        if url:\n",
    "            # Get full-size image URL (replace 'square' with 'original')\n",
    "            full_url = url.replace(\"square\", \"original\")\n",
    "            img_data = requests.get(full_url).content\n",
    "            img_filename = os.path.join(folder_name, f\"photo_{pidx+1}.jpg\")\n",
    "            with open(img_filename, \"wb\") as img_file:\n",
    "                img_file.write(img_data)\n"
   ]
  },
  {
   "cell_type": "code",
   "execution_count": null,
   "id": "025b1663",
   "metadata": {},
   "outputs": [],
   "source": []
  }
 ],
 "metadata": {
  "kernelspec": {
   "display_name": ".venv",
   "language": "python",
   "name": "python3"
  },
  "language_info": {
   "codemirror_mode": {
    "name": "ipython",
    "version": 3
   },
   "file_extension": ".py",
   "mimetype": "text/x-python",
   "name": "python",
   "nbconvert_exporter": "python",
   "pygments_lexer": "ipython3",
   "version": "3.9.6"
  }
 },
 "nbformat": 4,
 "nbformat_minor": 5
}
